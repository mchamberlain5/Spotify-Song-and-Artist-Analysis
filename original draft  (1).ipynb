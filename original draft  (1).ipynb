{
 "cells": [
  {
   "cell_type": "code",
   "execution_count": 14,
   "metadata": {},
   "outputs": [
    {
     "name": "stderr",
     "output_type": "stream",
     "text": [
      "C:\\Users\\Badison\\anaconda3\\New folder\\lib\\site-packages\\ipykernel_launcher.py:15: DeprecationWarning: You're using 'as_dict = True'.get_access_token will return the token string directly in future versions. Please adjust your code accordingly, or use get_cached_token instead.\n",
      "  from ipykernel import kernelapp as app\n"
     ]
    }
   ],
   "source": [
    "import spotipy\n",
    "import spotipy.util as util\n",
    "from spotipy.oauth2 import SpotifyClientCredentials\n",
    "import spotipy.oauth2 as oauth2\n",
    "from pprint import pprint\n",
    "market = [\"US\"]\n",
    "\n",
    "CLIENT_ID = \"deb364ecdd0c49699814a514c2358180\"\n",
    "CLIENT_SECRET = \"27f201b000cb40e391d3f1723ca084c6\"\n",
    "\n",
    "credentials = oauth2.SpotifyClientCredentials(\n",
    "        client_id=CLIENT_ID,\n",
    "        client_secret=CLIENT_SECRET)\n",
    "\n",
    "token = credentials.get_access_token()\n",
    "spotify = spotipy.Spotify(auth=token)\n",
    "\n",
    "artist_name_list = []\n",
    "track_name_list = []\n",
    "popularity_list = []\n",
    "track_id_list = []\n",
    "\n",
    "for i in range(0,50):\n",
    "    try:\n",
    "        track_results = spotify.search(q='date:2020', type='track', limit=50,offset=i)\n",
    "        for j, t in enumerate(track_results['tracks']['items']):\n",
    "            artist_name_list.append(t['artists'][0]['name'])\n",
    "            track_name_list.append(t['name'])\n",
    "            track_id_list.append(t['id'])\n",
    "            popularity_list.append(t['popularity'])\n",
    "    except:\n",
    "        pass"
   ]
  },
  {
   "cell_type": "code",
   "execution_count": 15,
   "metadata": {},
   "outputs": [
    {
     "name": "stdout",
     "output_type": "stream",
     "text": [
      "(2500, 4)\n"
     ]
    },
    {
     "data": {
      "text/html": [
       "<div>\n",
       "<style scoped>\n",
       "    .dataframe tbody tr th:only-of-type {\n",
       "        vertical-align: middle;\n",
       "    }\n",
       "\n",
       "    .dataframe tbody tr th {\n",
       "        vertical-align: top;\n",
       "    }\n",
       "\n",
       "    .dataframe thead th {\n",
       "        text-align: right;\n",
       "    }\n",
       "</style>\n",
       "<table border=\"1\" class=\"dataframe\">\n",
       "  <thead>\n",
       "    <tr style=\"text-align: right;\">\n",
       "      <th></th>\n",
       "      <th>artist_name</th>\n",
       "      <th>track_name</th>\n",
       "      <th>track_id</th>\n",
       "      <th>popularity</th>\n",
       "    </tr>\n",
       "  </thead>\n",
       "  <tbody>\n",
       "    <tr>\n",
       "      <th>0</th>\n",
       "      <td>Juice WRLD</td>\n",
       "      <td>Wishing Well</td>\n",
       "      <td>6o3QUC5oAE4g6WxRIFcZtb</td>\n",
       "      <td>93</td>\n",
       "    </tr>\n",
       "    <tr>\n",
       "      <th>1</th>\n",
       "      <td>The Weeknd</td>\n",
       "      <td>Blinding Lights</td>\n",
       "      <td>0VjIjW4GlUZAMYd2vXMi3b</td>\n",
       "      <td>99</td>\n",
       "    </tr>\n",
       "    <tr>\n",
       "      <th>2</th>\n",
       "      <td>Juice WRLD</td>\n",
       "      <td>Come &amp; Go (with Marshmello)</td>\n",
       "      <td>7y7w4tl4MaRC2UMEj1mPtr</td>\n",
       "      <td>92</td>\n",
       "    </tr>\n",
       "    <tr>\n",
       "      <th>3</th>\n",
       "      <td>StaySolidRocky</td>\n",
       "      <td>Party Girl</td>\n",
       "      <td>5RqR4ZCCKJDcBLIn4sih9l</td>\n",
       "      <td>93</td>\n",
       "    </tr>\n",
       "    <tr>\n",
       "      <th>4</th>\n",
       "      <td>Juice WRLD</td>\n",
       "      <td>Conversations</td>\n",
       "      <td>2fZTS0VboxRpF0FdfY7E5P</td>\n",
       "      <td>89</td>\n",
       "    </tr>\n",
       "  </tbody>\n",
       "</table>\n",
       "</div>"
      ],
      "text/plain": [
       "      artist_name                   track_name                track_id  \\\n",
       "0      Juice WRLD                 Wishing Well  6o3QUC5oAE4g6WxRIFcZtb   \n",
       "1      The Weeknd              Blinding Lights  0VjIjW4GlUZAMYd2vXMi3b   \n",
       "2      Juice WRLD  Come & Go (with Marshmello)  7y7w4tl4MaRC2UMEj1mPtr   \n",
       "3  StaySolidRocky                   Party Girl  5RqR4ZCCKJDcBLIn4sih9l   \n",
       "4      Juice WRLD                Conversations  2fZTS0VboxRpF0FdfY7E5P   \n",
       "\n",
       "   popularity  \n",
       "0          93  \n",
       "1          99  \n",
       "2          92  \n",
       "3          93  \n",
       "4          89  "
      ]
     },
     "execution_count": 15,
     "metadata": {},
     "output_type": "execute_result"
    }
   ],
   "source": [
    "import pandas as pd\n",
    "track_dataframe = pd.DataFrame({'artist_name' : artist_name, 'track_name' : track_name, 'track_id' : track_id, 'popularity' : popularity})\n",
    "print(track_dataframe.shape)\n",
    "track_dataframe.head()"
   ]
  },
  {
   "cell_type": "code",
   "execution_count": 16,
   "metadata": {},
   "outputs": [],
   "source": [
    "track_dataframe.to_csv(\"new_project_1.csv\")"
   ]
  },
  {
   "cell_type": "code",
   "execution_count": 17,
   "metadata": {},
   "outputs": [
    {
     "data": {
      "text/plain": [
       "2500"
      ]
     },
     "execution_count": 17,
     "metadata": {},
     "output_type": "execute_result"
    }
   ],
   "source": [
    "len(track_dataframe)"
   ]
  },
  {
   "cell_type": "code",
   "execution_count": 13,
   "metadata": {},
   "outputs": [
    {
     "ename": "AttributeError",
     "evalue": "'dict' object has no attribute 'groupby'",
     "output_type": "error",
     "traceback": [
      "\u001b[1;31m---------------------------------------------------------------------------\u001b[0m",
      "\u001b[1;31mAttributeError\u001b[0m                            Traceback (most recent call last)",
      "\u001b[1;32m<ipython-input-13-21fe28aec14a>\u001b[0m in \u001b[0;36m<module>\u001b[1;34m\u001b[0m\n\u001b[1;32m----> 1\u001b[1;33m \u001b[0mpopularity_group\u001b[0m \u001b[1;33m=\u001b[0m \u001b[0mtrack_results\u001b[0m\u001b[1;33m.\u001b[0m\u001b[0mgroupby\u001b[0m\u001b[1;33m(\u001b[0m\u001b[1;34m\"poularity\"\u001b[0m\u001b[1;33m)\u001b[0m\u001b[1;33m\u001b[0m\u001b[1;33m\u001b[0m\u001b[0m\n\u001b[0m",
      "\u001b[1;31mAttributeError\u001b[0m: 'dict' object has no attribute 'groupby'"
     ]
    }
   ],
   "source": []
  },
  {
   "cell_type": "code",
   "execution_count": null,
   "metadata": {},
   "outputs": [],
   "source": []
  }
 ],
 "metadata": {
  "kernelspec": {
   "display_name": "Python 3",
   "language": "python",
   "name": "python3"
  },
  "language_info": {
   "codemirror_mode": {
    "name": "ipython",
    "version": 3
   },
   "file_extension": ".py",
   "mimetype": "text/x-python",
   "name": "python",
   "nbconvert_exporter": "python",
   "pygments_lexer": "ipython3",
   "version": "3.7.6"
  }
 },
 "nbformat": 4,
 "nbformat_minor": 4
}
