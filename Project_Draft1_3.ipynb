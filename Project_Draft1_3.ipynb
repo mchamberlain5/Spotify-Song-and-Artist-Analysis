{
 "cells": [
  {
   "cell_type": "code",
   "execution_count": 2,
   "metadata": {},
   "outputs": [],
   "source": [
    "# import libraries \n",
    "import requests\n",
    "from bs4 import BeautifulSoup\n",
    "from datetime import date, timedelta\n",
    "from time import time\n",
    "from time import sleep\n",
    "from random import randint\n",
    "import pandas as pd"
   ]
  },
  {
   "cell_type": "code",
   "execution_count": 3,
   "metadata": {},
   "outputs": [],
   "source": [
    "# Define the base url pull the data by start and end date\n",
    "base_url = 'https://spotifycharts.com/regional/za/daily/'\n",
    "start = date(2020, 1, 10)\n",
    "end = date(2020, 7, 20)"
   ]
  },
  {
   "cell_type": "code",
   "execution_count": 4,
   "metadata": {},
   "outputs": [],
   "source": [
    "iter = timedelta(days=1)"
   ]
  },
  {
   "cell_type": "code",
   "execution_count": 7,
   "metadata": {},
   "outputs": [],
   "source": [
    "def get_rows_for_date(date_string):\n",
    "    \"\"\"\n",
    "     YYYY-MM-DD and top tracks for a date  \n",
    "     \n",
    "    \"\"\"\n",
    "   \n",
    "    # combine base_url and date_string in-order to get each iter \n",
    "    url = base_url + date_string\n",
    "    print(f\"Getting {url}\")\n",
    "    r = requests.get(url)\n",
    "\n",
    "    # clean up the stie content\n",
    "    soup = BeautifulSoup(r.text, 'html.parser')\n",
    "\n",
    "    # targating data where it starts and ends\n",
    "    chart = soup.find('table', {'class': 'chart-table'})\n",
    "\n",
    "    tbody = chart.find('tbody')\n",
    "\n",
    "   \n",
    "    # empty array will store all variables from scraping \n",
    "    page_rows = []\n",
    "\n",
    "    # scraping starts \n",
    "    for tr in tbody.find_all('tr'):\n",
    "\n",
    "        # rank for each chart position \n",
    "        rank_text = tr.find('td', {'class': 'chart-table-position'}).text\n",
    "\n",
    "        # artist name for each position and remove \"by \" inorder to get only an artist name\n",
    "        artist_text = tr.find('td', {'class': 'chart-table-track'}).find('span').text\n",
    "        artist_text = artist_text.replace('by ','').strip()\n",
    "        # title of track for each position\n",
    "        title_text = tr.find('td', {'class': 'chart-table-track'}).find('strong').text\n",
    "\n",
    "        # scrape number of streams for each position\n",
    "        streams_text = tr.find('td', {'class': 'chart-table-streams'}).text\n",
    "\n",
    "        # start date\n",
    "        date = (mydate - iter)\n",
    "\n",
    "        # append all variables to all_rows empty array with dates \n",
    "        page_rows.append( [rank_text, artist_text, title_text, streams_text, date.strftime('%Y-%m-%d')] )\n",
    "        \n",
    "        return page_rows"
   ]
  },
  {
   "cell_type": "code",
   "execution_count": 8,
   "metadata": {
    "scrolled": true
   },
   "outputs": [
    {
     "name": "stdout",
     "output_type": "stream",
     "text": [
      "Getting https://spotifycharts.com/regional/za/daily/2020-01-10\n",
      "Getting https://spotifycharts.com/regional/za/daily/2020-01-11\n",
      "Getting https://spotifycharts.com/regional/za/daily/2020-01-12\n",
      "Getting https://spotifycharts.com/regional/za/daily/2020-01-13\n",
      "Getting https://spotifycharts.com/regional/za/daily/2020-01-14\n",
      "Getting https://spotifycharts.com/regional/za/daily/2020-01-15\n",
      "Getting https://spotifycharts.com/regional/za/daily/2020-01-16\n",
      "Getting https://spotifycharts.com/regional/za/daily/2020-01-17\n",
      "Getting https://spotifycharts.com/regional/za/daily/2020-01-18\n",
      "Getting https://spotifycharts.com/regional/za/daily/2020-01-19\n",
      "Getting https://spotifycharts.com/regional/za/daily/2020-01-20\n",
      "Getting https://spotifycharts.com/regional/za/daily/2020-01-21\n",
      "Getting https://spotifycharts.com/regional/za/daily/2020-01-22\n",
      "Getting https://spotifycharts.com/regional/za/daily/2020-01-23\n",
      "Getting https://spotifycharts.com/regional/za/daily/2020-01-24\n",
      "Getting https://spotifycharts.com/regional/za/daily/2020-01-25\n",
      "Getting https://spotifycharts.com/regional/za/daily/2020-01-26\n",
      "Getting https://spotifycharts.com/regional/za/daily/2020-01-27\n",
      "Getting https://spotifycharts.com/regional/za/daily/2020-01-28\n",
      "Getting https://spotifycharts.com/regional/za/daily/2020-01-29\n",
      "Getting https://spotifycharts.com/regional/za/daily/2020-01-30\n",
      "Getting https://spotifycharts.com/regional/za/daily/2020-01-31\n",
      "Getting https://spotifycharts.com/regional/za/daily/2020-02-01\n",
      "Getting https://spotifycharts.com/regional/za/daily/2020-02-02\n",
      "Getting https://spotifycharts.com/regional/za/daily/2020-02-03\n",
      "Getting https://spotifycharts.com/regional/za/daily/2020-02-04\n",
      "Getting https://spotifycharts.com/regional/za/daily/2020-02-05\n",
      "Getting https://spotifycharts.com/regional/za/daily/2020-02-06\n",
      "Getting https://spotifycharts.com/regional/za/daily/2020-02-07\n",
      "Getting https://spotifycharts.com/regional/za/daily/2020-02-08\n",
      "Getting https://spotifycharts.com/regional/za/daily/2020-02-09\n",
      "Getting https://spotifycharts.com/regional/za/daily/2020-02-10\n",
      "Getting https://spotifycharts.com/regional/za/daily/2020-02-11\n",
      "Getting https://spotifycharts.com/regional/za/daily/2020-02-12\n",
      "Getting https://spotifycharts.com/regional/za/daily/2020-02-13\n",
      "Getting https://spotifycharts.com/regional/za/daily/2020-02-14\n",
      "Getting https://spotifycharts.com/regional/za/daily/2020-02-15\n",
      "Getting https://spotifycharts.com/regional/za/daily/2020-02-16\n",
      "Getting https://spotifycharts.com/regional/za/daily/2020-02-17\n",
      "Getting https://spotifycharts.com/regional/za/daily/2020-02-18\n",
      "Getting https://spotifycharts.com/regional/za/daily/2020-02-19\n"
     ]
    },
    {
     "ename": "KeyboardInterrupt",
     "evalue": "",
     "output_type": "error",
     "traceback": [
      "\u001b[0;31m---------------------------------------------------------------------------\u001b[0m",
      "\u001b[0;31mKeyboardInterrupt\u001b[0m                         Traceback (most recent call last)",
      "\u001b[0;32m<ipython-input-8-9fce7e4b5587>\u001b[0m in \u001b[0;36m<module>\u001b[0;34m\u001b[0m\n\u001b[1;32m     17\u001b[0m \u001b[0;34m\u001b[0m\u001b[0m\n\u001b[1;32m     18\u001b[0m     \u001b[0;31m# this will pause the loop between 1 and 2 seconds\u001b[0m\u001b[0;34m\u001b[0m\u001b[0;34m\u001b[0m\u001b[0;34m\u001b[0m\u001b[0m\n\u001b[0;32m---> 19\u001b[0;31m     \u001b[0msleep\u001b[0m\u001b[0;34m(\u001b[0m\u001b[0mrandint\u001b[0m\u001b[0;34m(\u001b[0m\u001b[0;36m1\u001b[0m\u001b[0;34m,\u001b[0m\u001b[0;36m2\u001b[0m\u001b[0;34m)\u001b[0m\u001b[0;34m)\u001b[0m\u001b[0;34m\u001b[0m\u001b[0;34m\u001b[0m\u001b[0m\n\u001b[0m",
      "\u001b[0;31mKeyboardInterrupt\u001b[0m: "
     ]
    }
   ],
   "source": [
    "start_time = time()\n",
    "mydate = start\n",
    "\n",
    "# all_rows will store data\n",
    "all_rows = []\n",
    "    \n",
    "while mydate < end:\n",
    "    if(mydate > end):\n",
    "        print(\"done with dates\")\n",
    "        break\n",
    "\n",
    "    new_rows = get_rows_for_date(mydate.strftime('%Y-%m-%d'))\n",
    "    all_rows.extend(new_rows)\n",
    "    \n",
    "    # next day \n",
    "    mydate += iter\n",
    "    \n",
    "    # this will pause the loop between 1 and 2 seconds\n",
    "    sleep(randint(1,2))\n"
   ]
  },
  {
   "cell_type": "code",
   "execution_count": 9,
   "metadata": {
    "collapsed": true
   },
   "outputs": [
    {
     "data": {
      "text/plain": [
       "[['1', 'Tones And I', 'Dance Monkey', '14,597', '2020-01-09'],\n",
       " ['1', 'Tones And I', 'Dance Monkey', '14,649', '2020-01-10'],\n",
       " ['1', 'Tones And I', 'Dance Monkey', '11,630', '2020-01-11'],\n",
       " ['1', 'Roddy Ricch', 'The Box', '13,100', '2020-01-12'],\n",
       " ['1', 'Roddy Ricch', 'The Box', '13,355', '2020-01-13'],\n",
       " ['1', 'Tones And I', 'Dance Monkey', '11,798', '2020-01-14'],\n",
       " ['1', 'Tones And I', 'Dance Monkey', '12,065', '2020-01-15'],\n",
       " ['1', 'Roddy Ricch', 'The Box', '15,578', '2020-01-16'],\n",
       " ['1', 'Roddy Ricch', 'The Box', '15,299', '2020-01-17'],\n",
       " ['1', 'Roddy Ricch', 'The Box', '12,389', '2020-01-18'],\n",
       " ['1', 'Eminem', 'Godzilla (feat. Juice WRLD)', '13,110', '2020-01-19'],\n",
       " ['1', 'Roddy Ricch', 'The Box', '12,384', '2020-01-20'],\n",
       " ['1', 'Roddy Ricch', 'The Box', '12,129', '2020-01-21'],\n",
       " ['1', 'Eminem', 'Godzilla (feat. Juice WRLD)', '12,878', '2020-01-22'],\n",
       " ['1', 'Roddy Ricch', 'The Box', '15,879', '2020-01-23'],\n",
       " ['1', 'Roddy Ricch', 'The Box', '16,286', '2020-01-24'],\n",
       " ['1', 'Roddy Ricch', 'The Box', '12,548', '2020-01-25'],\n",
       " ['1', 'Roddy Ricch', 'The Box', '11,828', '2020-01-26'],\n",
       " ['1', 'Roddy Ricch', 'The Box', '12,530', '2020-01-27'],\n",
       " ['1', 'Roddy Ricch', 'The Box', '12,404', '2020-01-28'],\n",
       " ['1', 'Roddy Ricch', 'The Box', '12,322', '2020-01-29'],\n",
       " ['1', 'Roddy Ricch', 'The Box', '14,758', '2020-01-30'],\n",
       " ['1', 'Roddy Ricch', 'The Box', '15,713', '2020-01-31'],\n",
       " ['1', 'Roddy Ricch', 'The Box', '12,372', '2020-02-01'],\n",
       " ['1', 'Roddy Ricch', 'The Box', '12,048', '2020-02-02'],\n",
       " ['1', 'Roddy Ricch', 'The Box', '12,347', '2020-02-03'],\n",
       " ['1', 'Roddy Ricch', 'The Box', '12,352', '2020-02-04'],\n",
       " ['1', 'Roddy Ricch', 'The Box', '12,496', '2020-02-05'],\n",
       " ['1', 'Roddy Ricch', 'The Box', '14,978', '2020-02-06'],\n",
       " ['1', 'Roddy Ricch', 'The Box', '15,594', '2020-02-07'],\n",
       " ['1', 'Roddy Ricch', 'The Box', '13,021', '2020-02-08'],\n",
       " ['1', 'Roddy Ricch', 'The Box', '12,092', '2020-02-09'],\n",
       " ['1', 'Roddy Ricch', 'The Box', '12,384', '2020-02-10'],\n",
       " ['1', 'Roddy Ricch', 'The Box', '13,114', '2020-02-11'],\n",
       " ['1', 'Roddy Ricch', 'The Box', '12,878', '2020-02-12'],\n",
       " ['1', 'Roddy Ricch', 'The Box', '15,137', '2020-02-13'],\n",
       " ['1', 'Roddy Ricch', 'The Box', '15,327', '2020-02-14'],\n",
       " ['1', 'Roddy Ricch', 'The Box', '12,003', '2020-02-15'],\n",
       " ['1', 'Roddy Ricch', 'The Box', '11,707', '2020-02-16'],\n",
       " ['1', 'Roddy Ricch', 'The Box', '11,787', '2020-02-17'],\n",
       " ['1', 'Roddy Ricch', 'The Box', '12,186', '2020-02-18']]"
      ]
     },
     "execution_count": 9,
     "metadata": {},
     "output_type": "execute_result"
    }
   ],
   "source": [
    "all_rows"
   ]
  },
  {
   "cell_type": "code",
   "execution_count": 21,
   "metadata": {
    "scrolled": true
   },
   "outputs": [
    {
     "name": "stdout",
     "output_type": "stream",
     "text": [
      "loaded 38400 rows\n",
      "['1', 'Tones And I', 'Dance Monkey', '14,597', '2020-01-09']\n",
      "['2', 'Future', 'Life Is Good (feat. Drake)', '12,000', '2020-01-09']\n",
      "['3', 'Roddy Ricch', 'The Box', '11,578', '2020-01-09']\n",
      "['4', 'Post Malone', 'Circles', '9,923', '2020-01-09']\n",
      "['5', 'Maroon 5', 'Memories', '9,367', '2020-01-09']\n",
      "['6', 'Justin Bieber', 'Yummy', '9,099', '2020-01-09']\n",
      "['7', 'Selena Gomez', 'Rare', '8,989', '2020-01-09']\n",
      "['8', 'Dua Lipa', \"Don't Start Now\", '8,210', '2020-01-09']\n",
      "['9', 'Selena Gomez', 'Lose You To Love Me', '8,062', '2020-01-09']\n",
      "['10', 'Trevor Daniel', 'Falling', '7,805', '2020-01-09']\n"
     ]
    }
   ],
   "source": [
    "print(f'loaded {len(all_rows)} rows')\n",
    "for row in all_rows[:10]:\n",
    "    print(row)"
   ]
  },
  {
   "cell_type": "code",
   "execution_count": 10,
   "metadata": {
    "scrolled": true
   },
   "outputs": [
    {
     "data": {
      "text/html": [
       "<div>\n",
       "<style scoped>\n",
       "    .dataframe tbody tr th:only-of-type {\n",
       "        vertical-align: middle;\n",
       "    }\n",
       "\n",
       "    .dataframe tbody tr th {\n",
       "        vertical-align: top;\n",
       "    }\n",
       "\n",
       "    .dataframe thead th {\n",
       "        text-align: right;\n",
       "    }\n",
       "</style>\n",
       "<table border=\"1\" class=\"dataframe\">\n",
       "  <thead>\n",
       "    <tr style=\"text-align: right;\">\n",
       "      <th></th>\n",
       "      <th>Rank</th>\n",
       "      <th>Artist</th>\n",
       "      <th>Title</th>\n",
       "      <th>Streams</th>\n",
       "      <th>Date</th>\n",
       "    </tr>\n",
       "  </thead>\n",
       "  <tbody>\n",
       "    <tr>\n",
       "      <td>0</td>\n",
       "      <td>1</td>\n",
       "      <td>Tones And I</td>\n",
       "      <td>Dance Monkey</td>\n",
       "      <td>14,597</td>\n",
       "      <td>2020-01-09</td>\n",
       "    </tr>\n",
       "    <tr>\n",
       "      <td>1</td>\n",
       "      <td>1</td>\n",
       "      <td>Tones And I</td>\n",
       "      <td>Dance Monkey</td>\n",
       "      <td>14,649</td>\n",
       "      <td>2020-01-10</td>\n",
       "    </tr>\n",
       "    <tr>\n",
       "      <td>2</td>\n",
       "      <td>1</td>\n",
       "      <td>Tones And I</td>\n",
       "      <td>Dance Monkey</td>\n",
       "      <td>11,630</td>\n",
       "      <td>2020-01-11</td>\n",
       "    </tr>\n",
       "    <tr>\n",
       "      <td>3</td>\n",
       "      <td>1</td>\n",
       "      <td>Roddy Ricch</td>\n",
       "      <td>The Box</td>\n",
       "      <td>13,100</td>\n",
       "      <td>2020-01-12</td>\n",
       "    </tr>\n",
       "    <tr>\n",
       "      <td>4</td>\n",
       "      <td>1</td>\n",
       "      <td>Roddy Ricch</td>\n",
       "      <td>The Box</td>\n",
       "      <td>13,355</td>\n",
       "      <td>2020-01-13</td>\n",
       "    </tr>\n",
       "  </tbody>\n",
       "</table>\n",
       "</div>"
      ],
      "text/plain": [
       "  Rank       Artist         Title Streams        Date\n",
       "0    1  Tones And I  Dance Monkey  14,597  2020-01-09\n",
       "1    1  Tones And I  Dance Monkey  14,649  2020-01-10\n",
       "2    1  Tones And I  Dance Monkey  11,630  2020-01-11\n",
       "3    1  Roddy Ricch       The Box  13,100  2020-01-12\n",
       "4    1  Roddy Ricch       The Box  13,355  2020-01-13"
      ]
     },
     "execution_count": 10,
     "metadata": {},
     "output_type": "execute_result"
    }
   ],
   "source": [
    "# Load into dataframe\n",
    "top_artist_info_df = pd.DataFrame(all_rows, columns =['Rank','Artist','Title','Streams', 'Date'])\n",
    "#print(spotify_artist_info_df)\n",
    "top_artist_info_df.head()"
   ]
  },
  {
   "cell_type": "markdown",
   "metadata": {},
   "source": [
    "\n"
   ]
  },
  {
   "cell_type": "code",
   "execution_count": 11,
   "metadata": {},
   "outputs": [],
   "source": [
    "top_artist_info_df.to_csv(\"top_artist_info.csv\")"
   ]
  },
  {
   "cell_type": "code",
   "execution_count": null,
   "metadata": {},
   "outputs": [],
   "source": []
  }
 ],
 "metadata": {
  "kernelspec": {
   "display_name": "Python 3.7.4 64-bit ('anaconda3': virtualenv)",
   "language": "python",
   "name": "python37464bitanaconda3virtualenv2d3916b64da04429b70da5d27d34c391"
  },
  "language_info": {
   "codemirror_mode": {
    "name": "ipython",
    "version": 3
   },
   "file_extension": ".py",
   "mimetype": "text/x-python",
   "name": "python",
   "nbconvert_exporter": "python",
   "pygments_lexer": "ipython3",
   "version": "3.7.4"
  }
 },
 "nbformat": 4,
 "nbformat_minor": 2
}
